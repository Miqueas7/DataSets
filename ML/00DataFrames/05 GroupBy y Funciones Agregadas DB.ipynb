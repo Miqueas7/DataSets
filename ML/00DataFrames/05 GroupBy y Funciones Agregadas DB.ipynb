{
 "cells": [
  {
   "cell_type": "markdown",
   "metadata": {
    "application/vnd.databricks.v1+cell": {
     "inputWidgets": {},
     "nuid": "070d0b62-7f12-4031-bef7-6c772d5e943e",
     "showTitle": false,
     "title": ""
    }
   },
   "source": [
    "# GroupBy y funciones agregadas"
   ]
  },
  {
   "cell_type": "code",
   "execution_count": null,
   "metadata": {
    "application/vnd.databricks.v1+cell": {
     "inputWidgets": {},
     "nuid": "b2215cde-09c1-4407-924e-94d36757eabe",
     "showTitle": false,
     "title": ""
    }
   },
   "outputs": [],
   "source": [
    "from pyspark.sql import SparkSession\n",
    "spark = SparkSession.builder.appName(\"groupbye\").getOrCreate()"
   ]
  },
  {
   "cell_type": "code",
   "execution_count": null,
   "metadata": {
    "application/vnd.databricks.v1+cell": {
     "inputWidgets": {},
     "nuid": "4e42cf27-e7db-480e-a4b0-22995026b7c3",
     "showTitle": false,
     "title": ""
    }
   },
   "outputs": [],
   "source": [
    "ruta = \"dbfs:/FileStore/shared_uploads/jgamarramoreno@gmail.com/sales_info.csv\""
   ]
  },
  {
   "cell_type": "code",
   "execution_count": null,
   "metadata": {
    "application/vnd.databricks.v1+cell": {
     "inputWidgets": {},
     "nuid": "1001e9ee-ae46-475a-ac50-ba902131a9b1",
     "showTitle": false,
     "title": ""
    }
   },
   "outputs": [],
   "source": [
    "df = spark.read.csv(ruta,inferSchema=True,header=True)"
   ]
  },
  {
   "cell_type": "code",
   "execution_count": null,
   "metadata": {
    "application/vnd.databricks.v1+cell": {
     "inputWidgets": {},
     "nuid": "dc07e600-c92e-41f4-a998-8a2167ed74c4",
     "showTitle": false,
     "title": ""
    }
   },
   "outputs": [
    {
     "data": {
      "text/plain": [
       "root\n",
       " |-- Company: string (nullable = true)\n",
       " |-- Person: string (nullable = true)\n",
       " |-- Sales: double (nullable = true)\n",
       "\n"
      ]
     },
     "metadata": {
      "application/vnd.databricks.v1+output": {
       "addedWidgets": {},
       "arguments": {},
       "data": "root\n |-- Company: string (nullable = true)\n |-- Person: string (nullable = true)\n |-- Sales: double (nullable = true)\n\n",
       "datasetInfos": [],
       "metadata": {},
       "removedWidgets": [],
       "type": "ansi"
      }
     },
     "output_type": "display_data"
    }
   ],
   "source": [
    "df.printSchema()"
   ]
  },
  {
   "cell_type": "code",
   "execution_count": null,
   "metadata": {
    "application/vnd.databricks.v1+cell": {
     "inputWidgets": {},
     "nuid": "c2dae6bf-6511-4227-84a4-8c0d3e3999f3",
     "showTitle": false,
     "title": ""
    }
   },
   "outputs": [
    {
     "data": {
      "text/plain": [
       "+-------+-------+-----+\n",
       "|Company| Person|Sales|\n",
       "+-------+-------+-----+\n",
       "|   GOOG|    Sam|200.0|\n",
       "|   GOOG|Charlie|120.0|\n",
       "|   GOOG|  Frank|340.0|\n",
       "|   MSFT|   Tina|600.0|\n",
       "|   MSFT|    Amy|124.0|\n",
       "|   MSFT|Vanessa|243.0|\n",
       "|     FB|   Carl|870.0|\n",
       "|     FB|  Sarah|350.0|\n",
       "|   APPL|   John|250.0|\n",
       "|   APPL|  Linda|130.0|\n",
       "|   APPL|   Mike|750.0|\n",
       "|   APPL|  Chris|350.0|\n",
       "+-------+-------+-----+\n",
       "\n"
      ]
     },
     "metadata": {
      "application/vnd.databricks.v1+output": {
       "addedWidgets": {},
       "arguments": {},
       "data": "+-------+-------+-----+\n|Company| Person|Sales|\n+-------+-------+-----+\n|   GOOG|    Sam|200.0|\n|   GOOG|Charlie|120.0|\n|   GOOG|  Frank|340.0|\n|   MSFT|   Tina|600.0|\n|   MSFT|    Amy|124.0|\n|   MSFT|Vanessa|243.0|\n|     FB|   Carl|870.0|\n|     FB|  Sarah|350.0|\n|   APPL|   John|250.0|\n|   APPL|  Linda|130.0|\n|   APPL|   Mike|750.0|\n|   APPL|  Chris|350.0|\n+-------+-------+-----+\n\n",
       "datasetInfos": [],
       "metadata": {},
       "removedWidgets": [],
       "type": "ansi"
      }
     },
     "output_type": "display_data"
    }
   ],
   "source": [
    "df.show()"
   ]
  },
  {
   "cell_type": "markdown",
   "metadata": {
    "application/vnd.databricks.v1+cell": {
     "inputWidgets": {},
     "nuid": "709e033e-b13e-4167-8a06-99cae88efe47",
     "showTitle": false,
     "title": ""
    }
   },
   "source": [
    "Agrupando los datos por compañía"
   ]
  },
  {
   "cell_type": "code",
   "execution_count": null,
   "metadata": {
    "application/vnd.databricks.v1+cell": {
     "inputWidgets": {},
     "nuid": "1381470e-b4c2-43ab-b2bb-25a678544748",
     "showTitle": false,
     "title": ""
    }
   },
   "outputs": [
    {
     "data": {
      "text/plain": [
       "Out[6]: <pyspark.sql.group.GroupedData at 0x7ff0a54d0190>"
      ]
     },
     "metadata": {
      "application/vnd.databricks.v1+output": {
       "addedWidgets": {},
       "arguments": {},
       "data": "Out[6]: <pyspark.sql.group.GroupedData at 0x7ff0a54d0190>",
       "datasetInfos": [],
       "metadata": {},
       "removedWidgets": [],
       "type": "ansi"
      }
     },
     "output_type": "display_data"
    }
   ],
   "source": [
    "df.groupBy(\"Company\")"
   ]
  },
  {
   "cell_type": "markdown",
   "metadata": {
    "application/vnd.databricks.v1+cell": {
     "inputWidgets": {},
     "nuid": "3025ddc6-e86f-4a41-8525-04a36afcaf17",
     "showTitle": false,
     "title": ""
    }
   },
   "source": [
    "Sobre el objeto se pueden aplicar varios métodos de agregación"
   ]
  },
  {
   "cell_type": "code",
   "execution_count": null,
   "metadata": {
    "application/vnd.databricks.v1+cell": {
     "inputWidgets": {},
     "nuid": "1fd0347a-0525-4aac-8e9a-eae4fc7e2352",
     "showTitle": false,
     "title": ""
    }
   },
   "outputs": [
    {
     "data": {
      "text/plain": [
       "+-------+-----------------+\n",
       "|Company|       avg(Sales)|\n",
       "+-------+-----------------+\n",
       "|   APPL|            370.0|\n",
       "|   GOOG|            220.0|\n",
       "|     FB|            610.0|\n",
       "|   MSFT|322.3333333333333|\n",
       "+-------+-----------------+\n",
       "\n"
      ]
     },
     "metadata": {
      "application/vnd.databricks.v1+output": {
       "addedWidgets": {},
       "arguments": {},
       "data": "+-------+-----------------+\n|Company|       avg(Sales)|\n+-------+-----------------+\n|   APPL|            370.0|\n|   GOOG|            220.0|\n|     FB|            610.0|\n|   MSFT|322.3333333333333|\n+-------+-----------------+\n\n",
       "datasetInfos": [],
       "metadata": {},
       "removedWidgets": [],
       "type": "ansi"
      }
     },
     "output_type": "display_data"
    }
   ],
   "source": [
    "df.groupBy(\"Company\").mean().show()"
   ]
  },
  {
   "cell_type": "code",
   "execution_count": null,
   "metadata": {
    "application/vnd.databricks.v1+cell": {
     "inputWidgets": {},
     "nuid": "788045d6-9961-4c60-88e8-907f7342861c",
     "showTitle": false,
     "title": ""
    }
   },
   "outputs": [
    {
     "data": {
      "text/plain": [
       "+-------+-----+\n",
       "|Company|count|\n",
       "+-------+-----+\n",
       "|   APPL|    4|\n",
       "|   GOOG|    3|\n",
       "|     FB|    2|\n",
       "|   MSFT|    3|\n",
       "+-------+-----+\n",
       "\n"
      ]
     },
     "metadata": {
      "application/vnd.databricks.v1+output": {
       "addedWidgets": {},
       "arguments": {},
       "data": "+-------+-----+\n|Company|count|\n+-------+-----+\n|   APPL|    4|\n|   GOOG|    3|\n|     FB|    2|\n|   MSFT|    3|\n+-------+-----+\n\n",
       "datasetInfos": [],
       "metadata": {},
       "removedWidgets": [],
       "type": "ansi"
      }
     },
     "output_type": "display_data"
    }
   ],
   "source": [
    "df.groupBy(\"Company\").count().show()"
   ]
  },
  {
   "cell_type": "code",
   "execution_count": null,
   "metadata": {
    "application/vnd.databricks.v1+cell": {
     "inputWidgets": {},
     "nuid": "d934af22-65f5-4d51-93cb-585cdc98338f",
     "showTitle": false,
     "title": ""
    }
   },
   "outputs": [
    {
     "data": {
      "text/plain": [
       "+-------+----------+\n",
       "|Company|max(Sales)|\n",
       "+-------+----------+\n",
       "|   APPL|     750.0|\n",
       "|   GOOG|     340.0|\n",
       "|     FB|     870.0|\n",
       "|   MSFT|     600.0|\n",
       "+-------+----------+\n",
       "\n"
      ]
     },
     "metadata": {
      "application/vnd.databricks.v1+output": {
       "addedWidgets": {},
       "arguments": {},
       "data": "+-------+----------+\n|Company|max(Sales)|\n+-------+----------+\n|   APPL|     750.0|\n|   GOOG|     340.0|\n|     FB|     870.0|\n|   MSFT|     600.0|\n+-------+----------+\n\n",
       "datasetInfos": [],
       "metadata": {},
       "removedWidgets": [],
       "type": "ansi"
      }
     },
     "output_type": "display_data"
    }
   ],
   "source": [
    "df.groupBy(\"Company\").max().show()"
   ]
  },
  {
   "cell_type": "code",
   "execution_count": null,
   "metadata": {
    "application/vnd.databricks.v1+cell": {
     "inputWidgets": {},
     "nuid": "d6c3fb4a-7749-425f-9fa5-63f46d99fca4",
     "showTitle": false,
     "title": ""
    }
   },
   "outputs": [
    {
     "data": {
      "text/plain": [
       "+-------+----------+\n",
       "|Company|min(Sales)|\n",
       "+-------+----------+\n",
       "|   APPL|     130.0|\n",
       "|   GOOG|     120.0|\n",
       "|     FB|     350.0|\n",
       "|   MSFT|     124.0|\n",
       "+-------+----------+\n",
       "\n"
      ]
     },
     "metadata": {
      "application/vnd.databricks.v1+output": {
       "addedWidgets": {},
       "arguments": {},
       "data": "+-------+----------+\n|Company|min(Sales)|\n+-------+----------+\n|   APPL|     130.0|\n|   GOOG|     120.0|\n|     FB|     350.0|\n|   MSFT|     124.0|\n+-------+----------+\n\n",
       "datasetInfos": [],
       "metadata": {},
       "removedWidgets": [],
       "type": "ansi"
      }
     },
     "output_type": "display_data"
    }
   ],
   "source": [
    "df.groupBy(\"Company\").min().show()"
   ]
  },
  {
   "cell_type": "code",
   "execution_count": null,
   "metadata": {
    "application/vnd.databricks.v1+cell": {
     "inputWidgets": {},
     "nuid": "3e86e4ea-ca74-475e-9f90-0ae3863b8e27",
     "showTitle": false,
     "title": ""
    }
   },
   "outputs": [
    {
     "data": {
      "text/plain": [
       "+-------+----------+\n",
       "|Company|sum(Sales)|\n",
       "+-------+----------+\n",
       "|   APPL|    1480.0|\n",
       "|   GOOG|     660.0|\n",
       "|     FB|    1220.0|\n",
       "|   MSFT|     967.0|\n",
       "+-------+----------+\n",
       "\n"
      ]
     },
     "metadata": {
      "application/vnd.databricks.v1+output": {
       "addedWidgets": {},
       "arguments": {},
       "data": "+-------+----------+\n|Company|sum(Sales)|\n+-------+----------+\n|   APPL|    1480.0|\n|   GOOG|     660.0|\n|     FB|    1220.0|\n|   MSFT|     967.0|\n+-------+----------+\n\n",
       "datasetInfos": [],
       "metadata": {},
       "removedWidgets": [],
       "type": "ansi"
      }
     },
     "output_type": "display_data"
    }
   ],
   "source": [
    "df.groupBy(\"Company\").sum().show()"
   ]
  },
  {
   "cell_type": "markdown",
   "metadata": {
    "application/vnd.databricks.v1+cell": {
     "inputWidgets": {},
     "nuid": "b7c4e890-a74b-4ff6-b24a-c9b079cc1bc9",
     "showTitle": false,
     "title": ""
    }
   },
   "source": [
    "En la ayuda de Spark.sql se pueden encontrar más funciones agregadas"
   ]
  },
  {
   "cell_type": "markdown",
   "metadata": {
    "application/vnd.databricks.v1+cell": {
     "inputWidgets": {},
     "nuid": "b3dc3178-c23e-46e4-9953-8dfd36a6c5eb",
     "showTitle": false,
     "title": ""
    }
   },
   "source": [
    "No todos los métodos necesitan usar groupby, se peden generalizar con agg()"
   ]
  },
  {
   "cell_type": "code",
   "execution_count": null,
   "metadata": {
    "application/vnd.databricks.v1+cell": {
     "inputWidgets": {},
     "nuid": "2e203a53-7909-4cab-87b5-9ecaacd68315",
     "showTitle": false,
     "title": ""
    }
   },
   "outputs": [
    {
     "data": {
      "text/plain": [
       "+----------+\n",
       "|max(Sales)|\n",
       "+----------+\n",
       "|     870.0|\n",
       "+----------+\n",
       "\n"
      ]
     },
     "metadata": {
      "application/vnd.databricks.v1+output": {
       "addedWidgets": {},
       "arguments": {},
       "data": "+----------+\n|max(Sales)|\n+----------+\n|     870.0|\n+----------+\n\n",
       "datasetInfos": [],
       "metadata": {},
       "removedWidgets": [],
       "type": "ansi"
      }
     },
     "output_type": "display_data"
    }
   ],
   "source": [
    "df.agg({'Sales':'max'}).show()"
   ]
  },
  {
   "cell_type": "code",
   "execution_count": null,
   "metadata": {
    "application/vnd.databricks.v1+cell": {
     "inputWidgets": {},
     "nuid": "716fc530-8306-4ee9-8e49-92cb18b46010",
     "showTitle": false,
     "title": ""
    }
   },
   "outputs": [],
   "source": [
    "grupos = df.groupBy(\"Company\")"
   ]
  },
  {
   "cell_type": "code",
   "execution_count": null,
   "metadata": {
    "application/vnd.databricks.v1+cell": {
     "inputWidgets": {},
     "nuid": "73bb2c0e-8d74-4be6-b515-275f54d149ed",
     "showTitle": false,
     "title": ""
    }
   },
   "outputs": [
    {
     "data": {
      "text/plain": [
       "Out[14]: pyspark.sql.group.GroupedData"
      ]
     },
     "metadata": {
      "application/vnd.databricks.v1+output": {
       "addedWidgets": {},
       "arguments": {},
       "data": "Out[14]: pyspark.sql.group.GroupedData",
       "datasetInfos": [],
       "metadata": {},
       "removedWidgets": [],
       "type": "ansi"
      }
     },
     "output_type": "display_data"
    }
   ],
   "source": [
    "type(grupos)"
   ]
  },
  {
   "cell_type": "code",
   "execution_count": null,
   "metadata": {
    "application/vnd.databricks.v1+cell": {
     "inputWidgets": {},
     "nuid": "f22df182-8032-4f9f-94dc-5c570bc8343a",
     "showTitle": false,
     "title": ""
    }
   },
   "outputs": [
    {
     "data": {
      "text/plain": [
       "+-------+----------+\n",
       "|Company|max(Sales)|\n",
       "+-------+----------+\n",
       "|   APPL|     750.0|\n",
       "|   GOOG|     340.0|\n",
       "|     FB|     870.0|\n",
       "|   MSFT|     600.0|\n",
       "+-------+----------+\n",
       "\n"
      ]
     },
     "metadata": {
      "application/vnd.databricks.v1+output": {
       "addedWidgets": {},
       "arguments": {},
       "data": "+-------+----------+\n|Company|max(Sales)|\n+-------+----------+\n|   APPL|     750.0|\n|   GOOG|     340.0|\n|     FB|     870.0|\n|   MSFT|     600.0|\n+-------+----------+\n\n",
       "datasetInfos": [],
       "metadata": {},
       "removedWidgets": [],
       "type": "ansi"
      }
     },
     "output_type": "display_data"
    }
   ],
   "source": [
    "grupos.agg({\"Sales\":\"max\"}).show()"
   ]
  },
  {
   "cell_type": "markdown",
   "metadata": {
    "application/vnd.databricks.v1+cell": {
     "inputWidgets": {},
     "nuid": "e52b1ae0-3be8-4cd5-a42a-fa5793985a5a",
     "showTitle": false,
     "title": ""
    }
   },
   "source": [
    "### Funciones\n",
    "Existen una variedad de funciones en pyspark.sql.functions"
   ]
  },
  {
   "cell_type": "code",
   "execution_count": null,
   "metadata": {
    "application/vnd.databricks.v1+cell": {
     "inputWidgets": {},
     "nuid": "5056a022-3754-4b8a-9609-7ce45b7b0f8a",
     "showTitle": false,
     "title": ""
    }
   },
   "outputs": [],
   "source": [
    "from pyspark.sql.functions import countDistinct, avg, stddev"
   ]
  },
  {
   "cell_type": "code",
   "execution_count": null,
   "metadata": {
    "application/vnd.databricks.v1+cell": {
     "inputWidgets": {},
     "nuid": "dfb2cbd8-b68a-43a3-9048-2adcbee3d59c",
     "showTitle": false,
     "title": ""
    }
   },
   "outputs": [
    {
     "data": {
      "text/plain": [
       "+-------+-------+-----+\n",
       "|Company| Person|Sales|\n",
       "+-------+-------+-----+\n",
       "|   GOOG|    Sam|200.0|\n",
       "|   GOOG|Charlie|120.0|\n",
       "|   GOOG|  Frank|340.0|\n",
       "|   MSFT|   Tina|600.0|\n",
       "|   MSFT|    Amy|124.0|\n",
       "|   MSFT|Vanessa|243.0|\n",
       "|     FB|   Carl|870.0|\n",
       "|     FB|  Sarah|350.0|\n",
       "|   APPL|   John|250.0|\n",
       "|   APPL|  Linda|130.0|\n",
       "|   APPL|   Mike|750.0|\n",
       "|   APPL|  Chris|350.0|\n",
       "+-------+-------+-----+\n",
       "\n"
      ]
     },
     "metadata": {
      "application/vnd.databricks.v1+output": {
       "addedWidgets": {},
       "arguments": {},
       "data": "+-------+-------+-----+\n|Company| Person|Sales|\n+-------+-------+-----+\n|   GOOG|    Sam|200.0|\n|   GOOG|Charlie|120.0|\n|   GOOG|  Frank|340.0|\n|   MSFT|   Tina|600.0|\n|   MSFT|    Amy|124.0|\n|   MSFT|Vanessa|243.0|\n|     FB|   Carl|870.0|\n|     FB|  Sarah|350.0|\n|   APPL|   John|250.0|\n|   APPL|  Linda|130.0|\n|   APPL|   Mike|750.0|\n|   APPL|  Chris|350.0|\n+-------+-------+-----+\n\n",
       "datasetInfos": [],
       "metadata": {},
       "removedWidgets": [],
       "type": "ansi"
      }
     },
     "output_type": "display_data"
    }
   ],
   "source": [
    "df.show()"
   ]
  },
  {
   "cell_type": "code",
   "execution_count": null,
   "metadata": {
    "application/vnd.databricks.v1+cell": {
     "inputWidgets": {},
     "nuid": "bf48338d-c0b8-4f0f-b751-7a92bc828152",
     "showTitle": false,
     "title": ""
    }
   },
   "outputs": [
    {
     "data": {
      "text/plain": [
       "+---------------------+\n",
       "|count(DISTINCT Sales)|\n",
       "+---------------------+\n",
       "|                   11|\n",
       "+---------------------+\n",
       "\n"
      ]
     },
     "metadata": {
      "application/vnd.databricks.v1+output": {
       "addedWidgets": {},
       "arguments": {},
       "data": "+---------------------+\n|count(DISTINCT Sales)|\n+---------------------+\n|                   11|\n+---------------------+\n\n",
       "datasetInfos": [],
       "metadata": {},
       "removedWidgets": [],
       "type": "ansi"
      }
     },
     "output_type": "display_data"
    }
   ],
   "source": [
    "df.select(countDistinct(\"Sales\")).show()"
   ]
  },
  {
   "cell_type": "code",
   "execution_count": null,
   "metadata": {
    "application/vnd.databricks.v1+cell": {
     "inputWidgets": {},
     "nuid": "80dbd9d4-098a-4bc0-9410-d9f0139d0e09",
     "showTitle": false,
     "title": ""
    }
   },
   "outputs": [
    {
     "data": {
      "text/plain": [
       "+-----------------------+\n",
       "|count(DISTINCT Company)|\n",
       "+-----------------------+\n",
       "|                      4|\n",
       "+-----------------------+\n",
       "\n"
      ]
     },
     "metadata": {
      "application/vnd.databricks.v1+output": {
       "addedWidgets": {},
       "arguments": {},
       "data": "+-----------------------+\n|count(DISTINCT Company)|\n+-----------------------+\n|                      4|\n+-----------------------+\n\n",
       "datasetInfos": [],
       "metadata": {},
       "removedWidgets": [],
       "type": "ansi"
      }
     },
     "output_type": "display_data"
    }
   ],
   "source": [
    "df.select(countDistinct(\"Company\")).show()"
   ]
  },
  {
   "cell_type": "code",
   "execution_count": null,
   "metadata": {
    "application/vnd.databricks.v1+cell": {
     "inputWidgets": {},
     "nuid": "0031ac88-7a71-4586-9222-b0c2471f07ce",
     "showTitle": false,
     "title": ""
    }
   },
   "outputs": [
    {
     "data": {
      "text/plain": [
       "+-----------------+\n",
       "|       avg(Sales)|\n",
       "+-----------------+\n",
       "|360.5833333333333|\n",
       "+-----------------+\n",
       "\n"
      ]
     },
     "metadata": {
      "application/vnd.databricks.v1+output": {
       "addedWidgets": {},
       "arguments": {},
       "data": "+-----------------+\n|       avg(Sales)|\n+-----------------+\n|360.5833333333333|\n+-----------------+\n\n",
       "datasetInfos": [],
       "metadata": {},
       "removedWidgets": [],
       "type": "ansi"
      }
     },
     "output_type": "display_data"
    }
   ],
   "source": [
    "df.select(avg(\"Sales\")).show()"
   ]
  },
  {
   "cell_type": "code",
   "execution_count": null,
   "metadata": {
    "application/vnd.databricks.v1+cell": {
     "inputWidgets": {},
     "nuid": "53b4a674-bb5e-4c0a-8870-a27f98131329",
     "showTitle": false,
     "title": ""
    }
   },
   "outputs": [
    {
     "data": {
      "text/plain": [
       "+------------------+\n",
       "|stddev_samp(Sales)|\n",
       "+------------------+\n",
       "|250.08742410799007|\n",
       "+------------------+\n",
       "\n"
      ]
     },
     "metadata": {
      "application/vnd.databricks.v1+output": {
       "addedWidgets": {},
       "arguments": {},
       "data": "+------------------+\n|stddev_samp(Sales)|\n+------------------+\n|250.08742410799007|\n+------------------+\n\n",
       "datasetInfos": [],
       "metadata": {},
       "removedWidgets": [],
       "type": "ansi"
      }
     },
     "output_type": "display_data"
    }
   ],
   "source": [
    "df.select(stddev(\"Sales\")).show()"
   ]
  },
  {
   "cell_type": "code",
   "execution_count": null,
   "metadata": {
    "application/vnd.databricks.v1+cell": {
     "inputWidgets": {},
     "nuid": "88750db5-b786-4ce1-9b9a-9fc48f2aa593",
     "showTitle": false,
     "title": ""
    }
   },
   "outputs": [],
   "source": [
    "from pyspark.sql.functions import format_number"
   ]
  },
  {
   "cell_type": "code",
   "execution_count": null,
   "metadata": {
    "application/vnd.databricks.v1+cell": {
     "inputWidgets": {},
     "nuid": "ffb01a38-d2c6-4c40-acb8-d4d4feaa48db",
     "showTitle": false,
     "title": ""
    }
   },
   "outputs": [],
   "source": [
    "des_est_ventas = df.select(stddev(\"Sales\").alias('des_est'))"
   ]
  },
  {
   "cell_type": "code",
   "execution_count": null,
   "metadata": {
    "application/vnd.databricks.v1+cell": {
     "inputWidgets": {},
     "nuid": "6a519e29-e5c2-4334-946d-cfef7470bca7",
     "showTitle": false,
     "title": ""
    }
   },
   "outputs": [
    {
     "data": {
      "text/plain": [
       "+------------------+\n",
       "|           des_est|\n",
       "+------------------+\n",
       "|250.08742410799007|\n",
       "+------------------+\n",
       "\n"
      ]
     },
     "metadata": {
      "application/vnd.databricks.v1+output": {
       "addedWidgets": {},
       "arguments": {},
       "data": "+------------------+\n|           des_est|\n+------------------+\n|250.08742410799007|\n+------------------+\n\n",
       "datasetInfos": [],
       "metadata": {},
       "removedWidgets": [],
       "type": "ansi"
      }
     },
     "output_type": "display_data"
    }
   ],
   "source": [
    "des_est_ventas.show()"
   ]
  },
  {
   "cell_type": "code",
   "execution_count": null,
   "metadata": {
    "application/vnd.databricks.v1+cell": {
     "inputWidgets": {},
     "nuid": "1eb1d33a-bd8c-49ff-bd0d-f1344c381f1e",
     "showTitle": false,
     "title": ""
    }
   },
   "outputs": [
    {
     "data": {
      "text/plain": [
       "+-------------------------+\n",
       "|format_number(des_est, 2)|\n",
       "+-------------------------+\n",
       "|                   250.09|\n",
       "+-------------------------+\n",
       "\n"
      ]
     },
     "metadata": {
      "application/vnd.databricks.v1+output": {
       "addedWidgets": {},
       "arguments": {},
       "data": "+-------------------------+\n|format_number(des_est, 2)|\n+-------------------------+\n|                   250.09|\n+-------------------------+\n\n",
       "datasetInfos": [],
       "metadata": {},
       "removedWidgets": [],
       "type": "ansi"
      }
     },
     "output_type": "display_data"
    }
   ],
   "source": [
    "des_est_ventas.select(format_number('des_est',2)).show()"
   ]
  },
  {
   "cell_type": "markdown",
   "metadata": {
    "application/vnd.databricks.v1+cell": {
     "inputWidgets": {},
     "nuid": "ed86200f-e7f8-4d05-8437-8b408e0ccf47",
     "showTitle": false,
     "title": ""
    }
   },
   "source": [
    "### Order By"
   ]
  },
  {
   "cell_type": "code",
   "execution_count": null,
   "metadata": {
    "application/vnd.databricks.v1+cell": {
     "inputWidgets": {},
     "nuid": "b7895db4-797a-49cb-9688-4945e3991d54",
     "showTitle": false,
     "title": ""
    }
   },
   "outputs": [
    {
     "data": {
      "text/plain": [
       "+-------+-------+-----+\n",
       "|Company| Person|Sales|\n",
       "+-------+-------+-----+\n",
       "|   GOOG|Charlie|120.0|\n",
       "|   MSFT|    Amy|124.0|\n",
       "|   APPL|  Linda|130.0|\n",
       "|   GOOG|    Sam|200.0|\n",
       "|   MSFT|Vanessa|243.0|\n",
       "|   APPL|   John|250.0|\n",
       "|   GOOG|  Frank|340.0|\n",
       "|     FB|  Sarah|350.0|\n",
       "|   APPL|  Chris|350.0|\n",
       "|   MSFT|   Tina|600.0|\n",
       "|   APPL|   Mike|750.0|\n",
       "|     FB|   Carl|870.0|\n",
       "+-------+-------+-----+\n",
       "\n"
      ]
     },
     "metadata": {
      "application/vnd.databricks.v1+output": {
       "addedWidgets": {},
       "arguments": {},
       "data": "+-------+-------+-----+\n|Company| Person|Sales|\n+-------+-------+-----+\n|   GOOG|Charlie|120.0|\n|   MSFT|    Amy|124.0|\n|   APPL|  Linda|130.0|\n|   GOOG|    Sam|200.0|\n|   MSFT|Vanessa|243.0|\n|   APPL|   John|250.0|\n|   GOOG|  Frank|340.0|\n|     FB|  Sarah|350.0|\n|   APPL|  Chris|350.0|\n|   MSFT|   Tina|600.0|\n|   APPL|   Mike|750.0|\n|     FB|   Carl|870.0|\n+-------+-------+-----+\n\n",
       "datasetInfos": [],
       "metadata": {},
       "removedWidgets": [],
       "type": "ansi"
      }
     },
     "output_type": "display_data"
    }
   ],
   "source": [
    "# ordena de forma ascendente\n",
    "df.orderBy(\"Sales\").show()"
   ]
  },
  {
   "cell_type": "code",
   "execution_count": null,
   "metadata": {
    "application/vnd.databricks.v1+cell": {
     "inputWidgets": {},
     "nuid": "ca1383da-5af5-4538-9916-8ccd4cd7539a",
     "showTitle": false,
     "title": ""
    }
   },
   "outputs": [
    {
     "data": {
      "text/plain": [
       "+-------+-------+-----+\n",
       "|Company| Person|Sales|\n",
       "+-------+-------+-----+\n",
       "|     FB|   Carl|870.0|\n",
       "|   APPL|   Mike|750.0|\n",
       "|   MSFT|   Tina|600.0|\n",
       "|     FB|  Sarah|350.0|\n",
       "|   APPL|  Chris|350.0|\n",
       "|   GOOG|  Frank|340.0|\n",
       "|   APPL|   John|250.0|\n",
       "|   MSFT|Vanessa|243.0|\n",
       "|   GOOG|    Sam|200.0|\n",
       "|   APPL|  Linda|130.0|\n",
       "|   MSFT|    Amy|124.0|\n",
       "|   GOOG|Charlie|120.0|\n",
       "+-------+-------+-----+\n",
       "\n"
      ]
     },
     "metadata": {
      "application/vnd.databricks.v1+output": {
       "addedWidgets": {},
       "arguments": {},
       "data": "+-------+-------+-----+\n|Company| Person|Sales|\n+-------+-------+-----+\n|     FB|   Carl|870.0|\n|   APPL|   Mike|750.0|\n|   MSFT|   Tina|600.0|\n|     FB|  Sarah|350.0|\n|   APPL|  Chris|350.0|\n|   GOOG|  Frank|340.0|\n|   APPL|   John|250.0|\n|   MSFT|Vanessa|243.0|\n|   GOOG|    Sam|200.0|\n|   APPL|  Linda|130.0|\n|   MSFT|    Amy|124.0|\n|   GOOG|Charlie|120.0|\n+-------+-------+-----+\n\n",
       "datasetInfos": [],
       "metadata": {},
       "removedWidgets": [],
       "type": "ansi"
      }
     },
     "output_type": "display_data"
    }
   ],
   "source": [
    "# ordena de forma ascendente\n",
    "df.orderBy(df[\"Sales\"].desc()).show()"
   ]
  }
 ],
 "metadata": {
  "application/vnd.databricks.v1+notebook": {
   "dashboards": [],
   "language": "python",
   "notebookMetadata": {
    "pythonIndentUnit": 4
   },
   "notebookName": "05 GroupBy y Funciones Agregadas",
   "notebookOrigID": 4356959982917113,
   "widgets": {}
  },
  "kernelspec": {
   "display_name": "Python 3 (ipykernel)",
   "language": "python",
   "name": "python3"
  },
  "language_info": {
   "codemirror_mode": {
    "name": "ipython",
    "version": 3
   },
   "file_extension": ".py",
   "mimetype": "text/x-python",
   "name": "python",
   "nbconvert_exporter": "python",
   "pygments_lexer": "ipython3",
   "version": "3.12.7"
  }
 },
 "nbformat": 4,
 "nbformat_minor": 4
}
